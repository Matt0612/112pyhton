{
 "cells": [
  {
   "cell_type": "code",
   "execution_count": null,
   "metadata": {},
   "outputs": [],
   "source": []
  },
  {
   "cell_type": "code",
   "execution_count": null,
   "metadata": {},
   "outputs": [],
   "source": [
    "#1234"
   ]
  },
  {
   "cell_type": "code",
   "execution_count": null,
   "metadata": {},
   "outputs": [],
   "source": [
    "#資料結構\n",
    "\n",
    "#暫時使用一下>Tuple 可以儲存多個值,但只有一個變數\n",
    "# Tuple建立後不可以改變內容,不可以新增或刪除\n",
    "# 如何建立Tuple? (2,\"error\")\n",
    "#List\n",
    "#dictionary\n",
    "#set"
   ]
  },
  {
   "cell_type": "code",
   "execution_count": null,
   "metadata": {},
   "outputs": [],
   "source": [
    "(404,\"error\")"
   ]
  },
  {
   "cell_type": "code",
   "execution_count": 22,
   "metadata": {},
   "outputs": [
    {
     "data": {
      "text/plain": [
       "[1, 2, 3, 4, 5, 6, 7, 8, 9]"
      ]
     },
     "execution_count": 22,
     "metadata": {},
     "output_type": "execute_result"
    }
   ],
   "source": [
    "list(range(1,10))"
   ]
  },
  {
   "cell_type": "code",
   "execution_count": 1,
   "metadata": {},
   "outputs": [
    {
     "data": {
      "text/plain": [
       "[78, 98, 56, 74, 79]"
      ]
     },
     "execution_count": 1,
     "metadata": {},
     "output_type": "execute_result"
    }
   ],
   "source": [
    "stu1=[78,98,56,74,79]\n",
    "stu1"
   ]
  },
  {
   "cell_type": "code",
   "execution_count": 2,
   "metadata": {},
   "outputs": [
    {
     "name": "stdout",
     "output_type": "stream",
     "text": [
      "78\n",
      "98\n",
      "56\n",
      "74\n",
      "79\n"
     ]
    }
   ],
   "source": [
    "for score in stu1:\n",
    "    print(score)"
   ]
  },
  {
   "cell_type": "code",
   "execution_count": 9,
   "metadata": {},
   "outputs": [],
   "source": [
    "enmpy_lit=[]\n",
    "weekdays=['一','二','三','四','五','六','日']\n",
    "big_birds=['emu','ostrich','cassowary']\n",
    "first_names = ['Graham', 'John', 'Terry', 'Terry', 'Michael']"
   ]
  },
  {
   "cell_type": "code",
   "execution_count": 10,
   "metadata": {},
   "outputs": [
    {
     "data": {
      "text/plain": [
       "['Graham', 'John', 'Terry', 'Terry', 'Michael']"
      ]
     },
     "execution_count": 10,
     "metadata": {},
     "output_type": "execute_result"
    }
   ],
   "source": [
    "first_names"
   ]
  },
  {
   "cell_type": "code",
   "execution_count": 11,
   "metadata": {},
   "outputs": [
    {
     "data": {
      "text/plain": [
       "'John'"
      ]
     },
     "execution_count": 11,
     "metadata": {},
     "output_type": "execute_result"
    }
   ],
   "source": [
    "\n",
    "first_names[1]"
   ]
  },
  {
   "cell_type": "code",
   "execution_count": 12,
   "metadata": {},
   "outputs": [
    {
     "data": {
      "text/plain": [
       "list"
      ]
     },
     "execution_count": 12,
     "metadata": {},
     "output_type": "execute_result"
    }
   ],
   "source": [
    "type(first_names)"
   ]
  },
  {
   "cell_type": "code",
   "execution_count": 13,
   "metadata": {},
   "outputs": [
    {
     "data": {
      "text/plain": [
       "int"
      ]
     },
     "execution_count": 13,
     "metadata": {},
     "output_type": "execute_result"
    }
   ],
   "source": [
    "type(10)"
   ]
  },
  {
   "cell_type": "code",
   "execution_count": 16,
   "metadata": {},
   "outputs": [
    {
     "data": {
      "text/plain": [
       "float"
      ]
     },
     "execution_count": 16,
     "metadata": {},
     "output_type": "execute_result"
    }
   ],
   "source": [
    "type(10.0)"
   ]
  },
  {
   "cell_type": "code",
   "execution_count": 17,
   "metadata": {},
   "outputs": [
    {
     "data": {
      "text/plain": [
       "str"
      ]
     },
     "execution_count": 17,
     "metadata": {},
     "output_type": "execute_result"
    }
   ],
   "source": [
    "type(\"robert\")"
   ]
  },
  {
   "cell_type": "code",
   "execution_count": 18,
   "metadata": {},
   "outputs": [
    {
     "data": {
      "text/plain": [
       "5"
      ]
     },
     "execution_count": 18,
     "metadata": {},
     "output_type": "execute_result"
    }
   ],
   "source": [
    "len(first_names)"
   ]
  },
  {
   "cell_type": "code",
   "execution_count": 23,
   "metadata": {},
   "outputs": [
    {
     "data": {
      "text/plain": [
       "['Graham', 'John', 'Terry', 'Terry', 'Michael', 'robert', 'robert']"
      ]
     },
     "execution_count": 23,
     "metadata": {},
     "output_type": "execute_result"
    }
   ],
   "source": [
    "first_names.append('robert')\n",
    "first_names"
   ]
  },
  {
   "cell_type": "code",
   "execution_count": 24,
   "metadata": {},
   "outputs": [
    {
     "data": {
      "text/plain": [
       "['Hsu', 'Graham', 'John', 'Terry', 'Terry', 'Michael', 'robert', 'robert']"
      ]
     },
     "execution_count": 24,
     "metadata": {},
     "output_type": "execute_result"
    }
   ],
   "source": [
    "first_names.insert(0,\"Hsu\")\n",
    "first_names"
   ]
  },
  {
   "cell_type": "code",
   "execution_count": 25,
   "metadata": {},
   "outputs": [],
   "source": [
    "#1231544\n",
    "#TOMMTMOTMMTdaaaa"
   ]
  },
  {
   "cell_type": "code",
   "execution_count": 2,
   "metadata": {},
   "outputs": [
    {
     "name": "stdout",
     "output_type": "stream",
     "text": [
      "h\n",
      "e\n",
      "l\n",
      "l\n",
      "o\n",
      "w\n",
      "o\n",
      "r\n",
      "l\n",
      "d\n"
     ]
    }
   ],
   "source": [
    "for word in \"helloworld\":\n",
    "    print(word)\n"
   ]
  },
  {
   "cell_type": "code",
   "execution_count": 3,
   "metadata": {},
   "outputs": [
    {
     "data": {
      "text/plain": [
       "['h', 'e', 'l', 'l', 'o', 'w', 'o', 'r', 'l', 'd']"
      ]
     },
     "execution_count": 3,
     "metadata": {},
     "output_type": "execute_result"
    }
   ],
   "source": [
    "words=list(\"helloworld\")\n",
    "words"
   ]
  },
  {
   "cell_type": "code",
   "execution_count": 4,
   "metadata": {},
   "outputs": [
    {
     "data": {
      "text/plain": [
       "['h', 'e', 'l', 'l', 'o']"
      ]
     },
     "execution_count": 4,
     "metadata": {},
     "output_type": "execute_result"
    }
   ],
   "source": [
    "#slice切割\n",
    "words[0:5]"
   ]
  },
  {
   "cell_type": "code",
   "execution_count": 5,
   "metadata": {},
   "outputs": [
    {
     "data": {
      "text/plain": [
       "['w', 'o', 'r', 'l']"
      ]
     },
     "execution_count": 5,
     "metadata": {},
     "output_type": "execute_result"
    }
   ],
   "source": [
    "words[-5:-1]"
   ]
  },
  {
   "cell_type": "code",
   "execution_count": 6,
   "metadata": {},
   "outputs": [
    {
     "data": {
      "text/plain": [
       "['w', 'o', 'r', 'l', 'd']"
      ]
     },
     "execution_count": 6,
     "metadata": {},
     "output_type": "execute_result"
    }
   ],
   "source": [
    "words[-5:]"
   ]
  },
  {
   "cell_type": "code",
   "execution_count": 7,
   "metadata": {},
   "outputs": [
    {
     "data": {
      "text/plain": [
       "['h', 'e', 'l', 'l', 'o']"
      ]
     },
     "execution_count": 7,
     "metadata": {},
     "output_type": "execute_result"
    }
   ],
   "source": [
    "words[:5]"
   ]
  },
  {
   "cell_type": "code",
   "execution_count": 4,
   "metadata": {},
   "outputs": [
    {
     "data": {
      "text/plain": [
       "[['筆記本電腦', '商用筆電'], ['apple', 'asus', 'acer'], [3, '冰箱', 2, '洗衣機']]"
      ]
     },
     "execution_count": 4,
     "metadata": {},
     "output_type": "execute_result"
    }
   ],
   "source": [
    "#二維LIST就是表格資料\n",
    "nb= ['筆記本電腦','商用筆電']\n",
    "mobile =['apple','asus','acer']\n",
    "home=[3,'冰箱',2,'洗衣機']\n",
    "all3c=[nb,mobile,home]\n",
    "all3c"
   ]
  },
  {
   "cell_type": "code",
   "execution_count": 8,
   "metadata": {},
   "outputs": [
    {
     "name": "stdout",
     "output_type": "stream",
     "text": [
      "['筆記本電腦', '商用筆電']\n",
      "['apple', 'asus', 'acer']\n",
      "[3, '冰箱', 2, '洗衣機']\n"
     ]
    }
   ],
   "source": [
    "print(all3c[0])\n",
    "print(all3c[1])\n",
    "print(all3c[2])"
   ]
  },
  {
   "cell_type": "code",
   "execution_count": 10,
   "metadata": {},
   "outputs": [
    {
     "name": "stdout",
     "output_type": "stream",
     "text": [
      "商用筆電\n",
      "apple\n",
      "3\n"
     ]
    }
   ],
   "source": [
    "print(all3c[0][1])\n",
    "print(all3c[1][0])\n",
    "print(all3c[2][0])"
   ]
  },
  {
   "cell_type": "code",
   "execution_count": 14,
   "metadata": {},
   "outputs": [
    {
     "data": {
      "text/plain": [
       "68"
      ]
     },
     "execution_count": 14,
     "metadata": {},
     "output_type": "execute_result"
    }
   ],
   "source": [
    "import random\n",
    "random.randint(50, 100)"
   ]
  },
  {
   "cell_type": "code",
   "execution_count": 15,
   "metadata": {},
   "outputs": [
    {
     "data": {
      "text/plain": [
       "[52, 88, 55, 87, 66]"
      ]
     },
     "execution_count": 15,
     "metadata": {},
     "output_type": "execute_result"
    }
   ],
   "source": [
    "stu1 = list()\n",
    "for _ in range(5):\n",
    "    stu1.append(random.randint(50,  100))\n",
    "stu1"
   ]
  },
  {
   "cell_type": "code",
   "execution_count": 14,
   "metadata": {},
   "outputs": [
    {
     "data": {
      "text/plain": [
       "[[63, 72, 82, 99, 62],\n",
       " [98, 100, 77, 91, 93],\n",
       " [64, 65, 75, 85, 75],\n",
       " [72, 82, 61, 80, 100],\n",
       " [88, 86, 78, 97, 82],\n",
       " [64, 84, 70, 95, 56],\n",
       " [71, 67, 61, 65, 85],\n",
       " [63, 99, 64, 76, 60],\n",
       " [77, 77, 81, 100, 66],\n",
       " [53, 85, 58, 99, 99]]"
      ]
     },
     "execution_count": 14,
     "metadata": {},
     "output_type": "execute_result"
    }
   ],
   "source": [
    "students=[]\n",
    "for _ in range(10):\n",
    "    stu=list()\n",
    "    for _ in range(5):\n",
    "        stu.append(random.randint(50,100))\n",
    "    students.append(stu)\n",
    "students"
   ]
  },
  {
   "cell_type": "code",
   "execution_count": 16,
   "metadata": {},
   "outputs": [],
   "source": [
    "text ='''python儲存成文字檔,\n",
    "W為寫入\n",
    "R為讀出\n",
    "三個點點為分行文字'''\n",
    "file =open('hello.txt',mode='w')\n",
    "print(text,file=file)\n",
    "file.close()"
   ]
  },
  {
   "cell_type": "code",
   "execution_count": 18,
   "metadata": {},
   "outputs": [],
   "source": [
    "file = open('hello111.txt',mode='w',encoding=\"utf-8\")\n",
    "file.write(\"這是第一行\\n\")\n",
    "file.write(\"這是第二行\\n\")\n",
    "file.writelines(\"\"\"這是第三行\n",
    "這是第四行\n",
    "這是第五行\n",
    "\"\"\")\n",
    "file.close()"
   ]
  },
  {
   "cell_type": "code",
   "execution_count": 21,
   "metadata": {},
   "outputs": [
    {
     "name": "stdout",
     "output_type": "stream",
     "text": [
      "這是第一行\n",
      "這是第二行\n",
      "這是第三行\n",
      "這是第四行\n",
      "這是第五行\n",
      "\n"
     ]
    }
   ],
   "source": [
    "file = open('hello111.txt',mode='r',encoding=\"utf-8\")\n",
    "all_text=file.read()\n",
    "print(all_text)\n"
   ]
  },
  {
   "cell_type": "code",
   "execution_count": 24,
   "metadata": {},
   "outputs": [],
   "source": [
    "#可以從google查詢writerrow & writerrow的差異\n",
    "import csv\n",
    "csv_write_file = open('students2.csv',newline='',mode='w',encoding='utf-8')\n",
    "csv_writer=csv.writer(csv_write_file)\n",
    "csv_writer.writerow(['a','b','c','d','e'])\n",
    "csv_writer.writerows(students)\n",
    "csv_write_file.close()"
   ]
  },
  {
   "cell_type": "code",
   "execution_count": 25,
   "metadata": {},
   "outputs": [],
   "source": [
    "import csv\n",
    "csv_write_file = open('students12.csv',newline='',mode='w',encoding='utf-8')\n",
    "csv_writer=csv.writer(csv_write_file)\n",
    "csv_writer.writerows(['a','b','c','d','e'])\n",
    "csv_write_file.close()"
   ]
  },
  {
   "cell_type": "code",
   "execution_count": 26,
   "metadata": {},
   "outputs": [],
   "source": [
    "import csv\n",
    "csv_write_file = open('students132.csv',newline='',mode='w',encoding='utf-8')\n",
    "csv_writer=csv.writer(csv_write_file)\n",
    "csv_writer.writerow(students)\n",
    "csv_write_file.close()"
   ]
  },
  {
   "cell_type": "code",
   "execution_count": 39,
   "metadata": {},
   "outputs": [],
   "source": [
    "#使用外來的CSV檔案寫程式\n",
    "filename ='111年-雙溪區.csv'\n",
    "file = open(filename,mode='r',encoding='utf-8',newline='')"
   ]
  },
  {
   "cell_type": "code",
   "execution_count": 40,
   "metadata": {},
   "outputs": [
    {
     "name": "stdout",
     "output_type": "stream",
     "text": [
      "['雙溪區', '土地', '柑腳段柑腳小段98-1地號', '34', '', '山坡地保育區', '丙種建築用地', '1110107', '土地1建物0車位0', '', '', '其他', '', '', '', '0', '0', '0', '0', '有', '無', '102000', '3000', '', '0', '0', '親友、員工、共有人或其他特殊關係間之交易；', 'RPRNMLOKJHHGFFF97EA', '0', '0', '0', '無']\n",
      "['雙溪區', '土地', '柑腳段外柑腳小段49-2地號', '4347', '', '山坡地保育區', '農牧用地', '1101207', '土地1建物0車位0', '', '', '其他', '', '', '', '0', '0', '0', '0', '有', '無', '7510000', '1728', '', '0', '0', '', 'RPPNMLPJJHHGFFF77EA', '0', '0', '0', '無']\n",
      "['雙溪區', '土地', '柑腳段柑腳小段98-4地號', '664.75', '', '山坡地保育區', '農牧用地', '1101115', '土地2建物0車位0', '', '', '其他', '', '', '', '0', '0', '0', '0', '有', '無', '2500000', '3761', '', '0', '0', '交易價格含地上未辦保存登記建物。未登記建物；', 'RPRNMLPJJHHGFFF97EA', '0', '0', '0', '無']\n",
      "['雙溪區', '土地', '柑腳段外柑腳小段304地號', '433.33', '', '山坡地保育區', '丙種建築用地', '1110426', '土地1建物0車位0', '', '', '其他', '', '', '', '0', '0', '0', '0', '有', '無', '2151000', '4964', '', '0', '0', '地清或未辦繼承標售；', 'RPRNMLQLMHHGFFF58EA', '0', '0', '0', '無']\n",
      "['雙溪區', '土地', '柑腳段中坑小段9地號', '223', '', '山坡地保育區', '農牧用地', '1110322', '土地1建物0車位0', '', '', '其他', '', '', '', '0', '0', '0', '0', '有', '無', '50000', '224', '', '0', '0', '', 'RPSNMLPKMHHGFFF48EA', '0', '0', '0', '無']\n",
      "['雙溪區', '土地', '柑腳段中坑小段3-1地號', '170', '', '山坡地保育區', '丙種建築用地', '1110322', '土地1建物0車位0', '', '', '其他', '', '', '', '0', '0', '0', '0', '有', '無', '261000', '1535', '', '0', '0', '地清或未辦繼承標售；', 'RPQNMLTLMHHGFFF78EA', '0', '0', '0', '無']\n",
      "['雙溪區', '土地', '柑腳段外柑腳小段23地號', '2962.5', '', '山坡地保育區', '農牧用地', '1110701', '土地3建物0車位0', '', '', '其他', '', '', '', '0', '0', '0', '0', '有', '無', '2680000', '905', '', '0', '0', '', 'RPPNMLMLPHHGFFF28EA', '0', '0', '0', '無']\n",
      "['雙溪區', '土地', '柑腳段柑腳小段351地號', '76.5', '', '鄉村區', '乙種建築用地', '1111019', '土地1建物0車位0', '', '', '其他', '', '', '', '0', '0', '0', '0', '有', '無', '300000', '3922', '', '0', '0', '親友、員工、共有人或其他特殊關係間之交易；未登記建物；', 'RPRNMLSJJIHGFFF28DA', '0', '0', '0', '無']\n",
      "['雙溪區', '土地', '柑腳段外柑腳小段24-1地號', '2076.25', '', '山坡地保育區', '農牧用地', '1110912', '土地4建物0車位0', '', '', '其他', '', '', '', '0', '0', '0', '0', '有', '無', '2850000', '1373', '', '0', '0', '', 'RPRNMLKLRHHGFFF48EA', '0', '0', '0', '無']\n"
     ]
    }
   ],
   "source": [
    "import csv\n",
    "csv_reader = csv.reader(file)\n",
    "data_all = list(csv_reader)\n",
    "for item in data_all:\n",
    "    if '柑腳段' in item[2]:\n",
    "        print(item)"
   ]
  },
  {
   "cell_type": "code",
   "execution_count": 76,
   "metadata": {},
   "outputs": [],
   "source": [
    "#使用外來的CSV檔案寫程式(空氣指數)\n",
    "filename2 ='aqx_p_432.csv'\n",
    "file = open(filename2,mode='r',encoding='utf-8',newline='')"
   ]
  },
  {
   "cell_type": "code",
   "execution_count": null,
   "metadata": {},
   "outputs": [],
   "source": [
    "import csv\n",
    "csv_reader = csv.reader(file)\n",
    "\n",
    "for itam in csv_reader:\n",
    "\n",
    "    print(item)"
   ]
  },
  {
   "cell_type": "code",
   "execution_count": 60,
   "metadata": {},
   "outputs": [
    {
     "name": "stdout",
     "output_type": "stream",
     "text": [
      "['菜寮', '新北市', '21', '', '良好', '1.3', '0.17', '18', '23.2', '12', '5', '6.6', '8.7', '2', '3.9', '132', '2023/07/15 15:00:00', '0.2', '4.6', '10', '0', '121.481028', '25.06895', '8']\n"
     ]
    }
   ],
   "source": [
    "import csv\n",
    "csv_reader = csv.reader(file)\n",
    "\n",
    "for item in csv_reader:\n",
    "    if(item[0]=='菜寮'):\n",
    "\n",
    "        print(item)"
   ]
  },
  {
   "cell_type": "code",
   "execution_count": 65,
   "metadata": {},
   "outputs": [
    {
     "name": "stdout",
     "output_type": "stream",
     "text": [
      "['sitename', 'county', 'aqi', 'pollutant', 'status', 'so2', 'co', 'o3', 'o3_8hr', 'pm10', 'pm2.5', 'no2', 'nox', 'no', 'wind_speed', 'wind_direc', 'publishtime', 'co_8hr', 'pm2.5_avg', 'pm10_avg', 'so2_avg', 'longitude', 'latitude', 'siteid']\n",
      "['桃園', '桃園市', '61', '臭氧八小時', '普通', '2.6', '0.22', '67.7', '58.4', '34', '9', '8.6', '9.6', '1', '2.2', '326', '2023/07/15 15:00:00', '0.2', '15.5', '33', '1', '121.30500531', '24.9947107', '17']\n",
      "['平鎮', '桃園市', '54', '細懸浮微粒', '普通', '1.7', '0.28', '66', '52.3', '36', '16', '8.4', '9.8', '1.4', '2.4', '26', '2023/07/15 15:00:00', '0.2', '16.8', '34', '1', '121.203986', '24.952786', '20']\n",
      "['龍潭', '桃園市', '53', '細懸浮微粒', '普通', '0.6', '0.27', '68', '55.5', '36', '18', '7.1', '8', '0.9', '2.4', '19', '2023/07/15 15:00:00', '0.2', '16.3', '31', '0', '121.21645772', '24.86400048', '21']\n",
      "['三義', '苗栗縣', '66', '細懸浮微粒', '普通', '1.3', '0.12', '46.8', '45.2', '', '10', '2.3', '3.3', '1', '1.9', '346', '2023/07/15 15:00:00', '0.1', '21.5', '', '1', '120.75956754', '24.38248443', '27']\n",
      "['嘉義', '嘉義市', '54', '臭氧八小時', '普通', '3', '0.14', '55.8', '56.8', '20', '9', '3.6', '4.5', '0.9', '3.3', '306', '2023/07/15 15:00:00', '0.1', '12.8', '27', '2', '120.44125148', '23.46477865', '42']\n",
      "['大寮', '高雄市', '54', '細懸浮微粒', '普通', '1.6', '0.15', '47.7', '46.7', '34', '13', '7.7', '8.9', '1.2', '2.3', '296', '2023/07/15 15:00:00', '0.2', '16.7', '35', '2', '120.425311', '22.56413611', '51']\n",
      "['林園', '高雄市', '64', '臭氧八小時', '普通', '1.8', '0.14', '59.7', '59', '24', '10', '2.6', '2.9', '0.3', '3.7', '299', '2023/07/15 15:00:00', '0.1', '12.2', '32', '1', '120.41175', '22.4795', '52']\n",
      "['潮州', '屏東縣', '53', '細懸浮微粒', '普通', '2.6', '0.21', '73.6', '55.5', '27', '15', '', '', '', '3.8', '279', '2023/07/15 15:00:00', '0.2', '16.4', '28', '1', '120.561175', '22.523108', '60']\n",
      "['金門', '金門縣', '64', '臭氧八小時', '普通', '2.5', '0.2', '70.4', '59.4', '16', '11', '4.3', '4.7', '0.4', '2.9', '140', '2023/07/15 15:00:00', '0.2', '17.3', '22', '2', '118.312256', '24.432133', '77']\n",
      "['高雄(湖內)', '高雄市', '', '', '', '', '', '', '', '', '', '', '', '', '', '', '2023/07/15 15:00:00', '', '', '', '', '120.24535', '22.87985556', '202']\n",
      "['屏東(琉球)', '屏東縣', '', '', '', '', '', '', '', '', '', '', '', '', '', '', '2023/07/15 15:00:00', '', '', '', '', '120.37722', '22.35222', '204']\n"
     ]
    }
   ],
   "source": [
    "import csv\n",
    "csv_reader = csv.reader(file)\n",
    "\n",
    "for item in csv_reader:\n",
    "    if(item[4] !='良好'):\n",
    "\n",
    "        print(item)"
   ]
  },
  {
   "cell_type": "code",
   "execution_count": 17,
   "metadata": {},
   "outputs": [],
   "source": [
    "#測試測試\n",
    "_file =open('hello2.txt',mode='w')\n",
    "print(students,file = _file)\n",
    "_file.close()"
   ]
  },
  {
   "cell_type": "code",
   "execution_count": null,
   "metadata": {},
   "outputs": [],
   "source": []
  },
  {
   "cell_type": "code",
   "execution_count": 6,
   "metadata": {},
   "outputs": [
    {
     "data": {
      "text/plain": [
       "3"
      ]
     },
     "execution_count": 6,
     "metadata": {},
     "output_type": "execute_result"
    }
   ],
   "source": [
    "#bowai測試用\n",
    "import random\n",
    "random.randint(1, 36)"
   ]
  },
  {
   "cell_type": "code",
   "execution_count": 13,
   "metadata": {},
   "outputs": [
    {
     "data": {
      "text/plain": [
       "[[6, 31, 29, 28, 26, 30],\n",
       " [18, 29, 19, 16, 31, 36],\n",
       " [33, 17, 26, 21, 14, 32],\n",
       " [35, 10, 9, 18, 15, 10],\n",
       " [33, 12, 35, 35, 22, 9],\n",
       " [1, 23, 35, 33, 31, 7],\n",
       " [10, 34, 10, 28, 6, 19],\n",
       " [29, 26, 15, 7, 27, 13],\n",
       " [12, 16, 19, 5, 9, 14],\n",
       " [31, 30, 13, 9, 30, 7]]"
      ]
     },
     "execution_count": 13,
     "metadata": {},
     "output_type": "execute_result"
    }
   ],
   "source": [
    "#bowai測試用\n",
    "import random\n",
    "random.randint(1, 36)\n",
    "HHH=[]\n",
    "for _ in range(10):\n",
    "    AAA=list()\n",
    "    for _ in range(6):\n",
    "        AAA.append(random.randint(1,36))\n",
    "    HHH.append(AAA)\n",
    "HHH"
   ]
  }
 ],
 "metadata": {
  "kernelspec": {
   "display_name": "Python 3",
   "language": "python",
   "name": "python3"
  },
  "language_info": {
   "codemirror_mode": {
    "name": "ipython",
    "version": 3
   },
   "file_extension": ".py",
   "mimetype": "text/x-python",
   "name": "python",
   "nbconvert_exporter": "python",
   "pygments_lexer": "ipython3",
   "version": "3.10.8"
  },
  "orig_nbformat": 4
 },
 "nbformat": 4,
 "nbformat_minor": 2
}
