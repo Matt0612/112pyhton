{
 "cells": [
  {
   "cell_type": "code",
   "execution_count": null,
   "metadata": {},
   "outputs": [],
   "source": []
  },
  {
   "cell_type": "code",
   "execution_count": null,
   "metadata": {},
   "outputs": [],
   "source": [
    "print('hello!python!')\n",
    "\n",
    "#TTTT"
   ]
  },
  {
   "cell_type": "code",
   "execution_count": null,
   "metadata": {},
   "outputs": [
    {
     "ename": "",
     "evalue": "",
     "output_type": "error",
     "traceback": [
      "\u001b[1;31m執行具有 '/usr/bin/python3' 的儲存格需要 ipykernel 套件。\n",
      "\u001b[1;31mRun the following command to install 'ipykernel' into the Python environment. \n",
      "\u001b[1;31mCommand: '/usr/bin/python3 -m pip install ipykernel -U --user --force-reinstall'"
     ]
    }
   ],
   "source": [
    "import matplotlib"
   ]
  },
  {
   "cell_type": "code",
   "execution_count": null,
   "metadata": {},
   "outputs": [],
   "source": [
    "##課程上操作\n",
    "#標準寫法\n",
    "import matplotlib.pyplot as plt\n",
    "\n",
    "# 1.製作figure\n",
    "fig = plt.figure()\n",
    "\n",
    "# 2.在1.的figure上製作一個axes\n",
    "ax_1 = fig.add_subplot(1, 1, 1)\n",
    "\n",
    "# 3.將圖的數據儲存在axes中\n",
    "X = [0, 1, 2]\n",
    "Y = [3, 4, 5]\n",
    "ax_1.plot(X, Y)\n",
    "\n",
    "# 4.顯示圖\n",
    "plt.show()"
   ]
  },
  {
   "cell_type": "code",
   "execution_count": null,
   "metadata": {},
   "outputs": [],
   "source": [
    "##課程上操作\n",
    "fig = plt.figure()\n",
    "ax_1 = fig.add_subplot(1,3,1)\n",
    "ax_1.set_title(\"axes1\")\n",
    "\n",
    "ax_2 = fig.add_subplot(1,3,2)\n",
    "ax_2.set_title(\"axes2\")\n",
    "\n",
    "ax_3 = fig.add_subplot(1,3,3)\n",
    "ax_3.set_title(\"axes3\")\n"
   ]
  },
  {
   "cell_type": "code",
   "execution_count": null,
   "metadata": {},
   "outputs": [],
   "source": [
    "student1 = {'chinese':78, 'english':80, 'math':92, 'history':75, 'discover':85}\n",
    "student2 = {'chinese':90, 'english':75, 'math':98, 'history':65, 'discover':75}\n",
    "\n",
    "subjects =list(student1.keys())\n",
    "value1 =list(student1.values())\n",
    "value2 = list(student2.values())\n",
    "\n",
    "figure = plt.figure(figsize=(8.0, 5.0), dpi=250.0, facecolor=\"#cccccc\")\n",
    "ax = figure.add_subplot()\n",
    "ax.plot(subjects, value1,'b-.o',linewidth=1)#在這邊可以去Matplotlib plt查詢資料,matplotlib.axex.axes.plot查詢顯示的方式\n",
    "\n",
    "ax.plot(subjects, value2,'c--^')#在這邊可以去Matplotlib plt查詢資料,matplotlib.axex.axes.plot查詢顯示的方式\n",
    "#路徑matplotib.axes > matplotlib.axex.axes.plot\n",
    "plt.show()"
   ]
  }
 ],
 "metadata": {
  "kernelspec": {
   "display_name": "Python 3",
   "language": "python",
   "name": "python3"
  },
  "language_info": {
   "codemirror_mode": {
    "name": "ipython",
    "version": 3
   },
   "file_extension": ".py",
   "mimetype": "text/x-python",
   "name": "python",
   "nbconvert_exporter": "python",
   "pygments_lexer": "ipython3",
   "version": "3.11.4"
  },
  "orig_nbformat": 4
 },
 "nbformat": 4,
 "nbformat_minor": 2
}
